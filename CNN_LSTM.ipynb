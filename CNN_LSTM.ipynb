{
  "nbformat": 4,
  "nbformat_minor": 0,
  "metadata": {
    "colab": {
      "provenance": []
    },
    "kernelspec": {
      "name": "python3",
      "display_name": "Python 3"
    },
    "language_info": {
      "name": "python"
    }
  },
  "cells": [
    {
      "cell_type": "markdown",
      "source": [
        "Useful Links used:\n",
        "https://www.tensorflow.org/\n",
        "\n",
        "https://keras.io/\n",
        "\n",
        "https://medium.com/analytics-vidhya/understanding-embedding-layer-in-keras-bbe3ff1327ce#:~:text=Embedding%20layer%20enables%20us%20to,way%20along%20with%20reduced%20dimensions.\n",
        "\n",
        "https://www.analyticsvidhya.com/blog/2021/06/natural-language-processing-sentiment-analysis-using-lstm/\n",
        "\n",
        "https://www.kaggle.com/code/lykin22/twitter-sentiment-analysis-with-naive-bayes-85-acc/notebook\n",
        "\n",
        "https://www.analyticsvidhya.com/blog/2021/12/sentiment-analysis-on-tweets-with-lstm-for-beginners/\n",
        "\n",
        "https://towardsdatascience.com/basics-of-countvectorizer-e26677900f9c\n",
        "\n",
        "https://haochen23.github.io/2020/01/nlp-rnn-sentiment.html\n",
        "\n",
        "https://www.analyticsvidhya.com/blog/2021/07/performing-sentiment-analysis-with-naive-bayes-classifier/\n",
        "\n",
        "https://www.kaggle.com/code/prashant268/sentiment-analysis-lstm/notebook\n",
        "\n",
        "https://medium.com/analytics-vidhya/understanding-embedding-layer-in-keras-bbe3ff1327ce#:~:text=Embedding%20layer%20enables%20us%20to,way%20along%20with%20reduced%20dimensions\n",
        "\n",
        "https://medium.com/@karyrs1506/sentiment-analysis-on-tweets-with-lstm-22e3bbf93a61\n",
        "\n",
        "https://lifesaver.codes/answer/how-does-embedding-layer-work-3110\n",
        "\n",
        "https://www.kaggle.com/code/prashant268/sentiment-analysis-lstm/notebook\n",
        "\n",
        "https://towardsdatascience.com/another-twitter-sentiment-analysis-with-python-part-11-cnn-word2vec-41f5e28eda74\n",
        "\n",
        "https://www.kaggle.com/code/arrogantlymodest/randomised-cv-search-over-keras-neural-network/notebook\n",
        "\n",
        "https://www.analyticsvidhya.com/blog/2021/11/an-introduction-to-stemming-in-natural-language-processing/"
      ],
      "metadata": {
        "id": "Q27MZyudk7f8"
      }
    },
    {
      "cell_type": "code",
      "execution_count": null,
      "metadata": {
        "id": "rD39XsGprN2p"
      },
      "outputs": [],
      "source": [
        "# Code that was listed in the scaffold to set up python\n",
        "#####CODE BLOCK 1\n",
        "\n",
        "import pandas as pd\n",
        "pd.set_option('display.max_columns', 10)"
      ]
    },
    {
      "cell_type": "code",
      "source": [
        "# Connect to Google Drive if needed\n",
        "#####CODE BLOCK 2\n",
        "from google.colab import drive\n",
        "drive.mount('/content/drive')\n",
        "%cd /content/drive/MyDrive/Colab Notebooks/"
      ],
      "metadata": {
        "id": "pHm7s8YerbHL"
      },
      "execution_count": null,
      "outputs": []
    },
    {
      "cell_type": "code",
      "source": [
        "#I downloaded the CSV and called it sentiment.csv. Because the file was too large to store locally I had to store it in my google drive folders\n",
        "#####CODE BLOCK 3\n",
        "data_train_df = pd.read_csv('./sentiment.csv', encoding='latin-1', names=[\"target\", \"id\", \"date\", \"flag\", \"user\", \"text\"])\n",
        "\n",
        "data_train_df.drop('id', axis=1, inplace=True)\n",
        "data_train_df.drop('date', axis=1, inplace=True)\n",
        "data_train_df.drop('flag', axis=1, inplace=True)\n",
        "data_train_df.drop('user', axis=1, inplace=True)"
      ],
      "metadata": {
        "id": "A1YWMN-OrkMz"
      },
      "execution_count": null,
      "outputs": []
    },
    {
      "cell_type": "code",
      "source": [
        "#####CODE BLOCK 4\n",
        "# Import necessary Libraries for preprocessing\n",
        "import nltk\n",
        "import string\n",
        "from nltk.corpus import stopwords\n",
        "nltk.download('stopwords')\n",
        "print(data_train_df.head())"
      ],
      "metadata": {
        "id": "PIKqjvCDrmRb"
      },
      "execution_count": null,
      "outputs": []
    },
    {
      "cell_type": "code",
      "source": [
        "#####CODE BLOCK 5\n",
        "#CODE CITATION ACKNOWLEDGMENT: https://medium.com/@karyrs1506/sentiment-analysis-on-tweets-with-lstm-22e3bbf93a61\n",
        "from nltk.tokenize import TweetTokenizer\n",
        "from nltk.stem import SnowballStemmer\n",
        "snowball = SnowballStemmer(language='english')\n",
        "tokenizer = TweetTokenizer(preserve_case=False,\n",
        "                           strip_handles=True,\n",
        "                           reduce_len=True)\n",
        "import re\n",
        "#Extract all the tweets from the dataframe\n",
        "texts = list(data_train_df.loc[:, \"text\"])\n",
        "\n",
        "#Prepare a list of tweets which have been cleaned\n",
        "tweet_list = []\n",
        "i = 0\n",
        "stopwords_english = stopwords.words('english')\n",
        "\n",
        "#Loop through every tweet\n",
        "while i < len(texts):\n",
        "  tweet = texts[i]\n",
        "  #Remove hyperlinks and @'s\n",
        "  tweet = re.sub('@\\S+|https?:\\S+|http?:\\S|[^A-Za-z0-9]+',' ', tweet)\n",
        "  no_punc_tweet = \"\"\n",
        "  list_chars = []\n",
        "  clean_tweet = []\n",
        "\n",
        "  #Tokenzie the tweet after removing unecessary details in the tweet\n",
        "  tweet_tokens = tokenizer.tokenize(tweet)\n",
        "  #Loop through every token in the tweet making sure to remove stop words and punctuation\n",
        "  for word in tweet_tokens:\n",
        "    if word not in stopwords_english and word not in string.punctuation:\n",
        "      #Get the stem of a word to avoid duplicates\n",
        "      word = snowball.stem(word)\n",
        "      clean_tweet.append(word)\n",
        "\n",
        "  #Rejoin the words together\n",
        "  no_punc_tweet = ' '.join(clean_tweet)\n",
        "  no_punc_tweet = no_punc_tweet.lower()\n",
        "  #Add it to our list of clean tweets\n",
        "  tweet_list.append(no_punc_tweet)\n",
        "\n",
        "  i += 1\n",
        "\n",
        "#Create a new dataframe with cleaned tweets\n",
        "data_train_df['refined'] = tweet_list\n",
        "\n",
        "\n",
        "\n"
      ],
      "metadata": {
        "id": "Km8R2D0Grom1"
      },
      "execution_count": null,
      "outputs": []
    },
    {
      "cell_type": "code",
      "source": [
        "#####CODE BLOCK 6\n",
        "from statistics import mean\n",
        "from keras.preprocessing.text import Tokenizer\n",
        "from keras.preprocessing.sequence import pad_sequences\n",
        "#Create a Keras tokenizer\n",
        "tokenizer = Tokenizer()\n",
        "print(tweet_list[0])\n",
        "#Create an vocabulary dictionary from all the words in tweets\n",
        "tokenizer.fit_on_texts(tweet_list)\n",
        "#Transfers each word in a tweet to a sequence of integers represented by the dictionary we created before\n",
        "X = tokenizer.texts_to_sequences(tweet_list)\n",
        "#We don't have very large tweets. We can usually determine the sentiment in the first few words\n",
        "X = pad_sequences(X, maxlen = 15, truncating = 'post', padding= 'post')\n",
        "#We want to set our word embedding_length this will change based on if you use Glove or Word2Vec\n",
        "embedding_len = len(tokenizer.word_index) + 1"
      ],
      "metadata": {
        "colab": {
          "base_uri": "https://localhost:8080/"
        },
        "id": "kXXbccgltIPO",
        "outputId": "77f81ead-ee23-4299-8935-c3d34f3cd2a0"
      },
      "execution_count": null,
      "outputs": [
        {
          "output_type": "stream",
          "name": "stdout",
          "text": [
            "awww bummer shoulda got david carr third day\n"
          ]
        }
      ]
    },
    {
      "cell_type": "code",
      "source": [
        "#####CODE BLOCK 7\n",
        "# CODE CITATION ACKNOWLEDGEMENT: https://www.kaggle.com/code/prashant268/sentiment-analysis-lstm/notebook\n",
        "\n",
        "#Use this code block for word embedding using the W2V embedding\n",
        "documents = [tweet.split() for tweet in tweet_list]\n",
        "embedding_len = 300000\n",
        "import gensim\n",
        "import numpy as np\n",
        "#Train the w2v model\n",
        "documents = [tweet.split() for tweet in tweet_list]\n",
        "embedding_len = 300000\n",
        "import gensim\n",
        "import numpy as np\n",
        "#Train the w2v model\n",
        "word_vector_model = gensim.models.word2vec.Word2Vec(documents,\n",
        "                                            size=100,\n",
        "                                            min_count=10,\n",
        "                                            workers=8)\n",
        "\n",
        "\n",
        "#Creating an embeddings matrix and fill it up based on the word vectors we created from before\n",
        "embeddings_matrix = np.zeros((embedding_len, 100))\n",
        "for word, i in tokenizer.word_index.items():\n",
        "  if word in word_vector_model.wv:\n",
        "    embeddings_matrix[i] = word_vector_model.wv[word]\n",
        "print(embeddings_matrix.shape)"
      ],
      "metadata": {
        "colab": {
          "base_uri": "https://localhost:8080/"
        },
        "id": "2RAoRLWkjfkW",
        "outputId": "ee6d51e8-3a95-4beb-f72d-44fb39b5e7ef"
      },
      "execution_count": null,
      "outputs": [
        {
          "output_type": "stream",
          "name": "stdout",
          "text": [
            "26726\n",
            "(300000, 100)\n"
          ]
        }
      ]
    },
    {
      "cell_type": "code",
      "source": [
        "#####CODE BLOCK 8\n",
        "#CODE CITATION ACKNOWLEDGEMENT https://jovian.ai/kamilpolak/sentiment-analysis-with-glove-and-lstm-a3c64\n",
        "\n",
        "#Use this code block if you want to use Glove embedding\n",
        "import numpy as np\n",
        "embeddings_index = {};\n",
        "\n",
        "with open('./glove.6B.100d.txt') as f:\n",
        "    for line in f:\n",
        "        values = line.split()\n",
        "        word = values[0]\n",
        "        coefs = np.asarray(values[1:], dtype='float32')\n",
        "        embeddings_index[word] = coefs\n",
        "\n",
        "embeddings_matrix = np.zeros((embedding_len, 100))\n",
        "for word, i in tokenizer.word_index.items():\n",
        "    embedding_vector = embeddings_index.get(word)\n",
        "    if embedding_vector is not None:\n",
        "        embeddings_matrix[i] = embedding_vector"
      ],
      "metadata": {
        "id": "m8iEv_eUtcXt"
      },
      "execution_count": null,
      "outputs": []
    },
    {
      "cell_type": "code",
      "source": [
        "#####CODE BLOCK 9\n",
        "from keras.models import Sequential\n",
        "import json\n",
        "from keras.layers import Dense, Embedding, LSTM, Dropout, Bidirectional\n",
        "import tensorflow as tf\n",
        "import os\n",
        "strategy = tf.distribute.MirroredStrategy()"
      ],
      "metadata": {
        "id": "uynRnX5UtzPh"
      },
      "execution_count": null,
      "outputs": []
    },
    {
      "cell_type": "code",
      "source": [
        "#####CODE BLOCK 10\n",
        "#CODE CITATION ACKNOWLEDGEMENTS USED THE FOLLOWING LINKS FOR HELP\n",
        "#https://jzhao326.github.io/documents/479_DL_REPORT.pdf\n",
        "#https://towardsdatascience.com/choosing-the-right-hyperparameters-for-a-simple-lstm-using-keras-f8e9ed76f046\n",
        "#https://www.analyticsvidhya.com/blog/2021/06/tuning-hyperparameters-of-an-artificial-neural-network-leveraging-keras-tuner/\n",
        "\n",
        "#PREVIOUS WORK\n",
        "#https://ieeexplore.ieee.org/stamp/stamp.jsp?tp=&arnumber=9362853\n",
        "#https://www.kaggle.com/code/gemyhamed/sentiment-analysis-word-embedding-lstm-cnn/notebook\n",
        "from keras.callbacks import EarlyStopping\n",
        "import numpy as np\n",
        "from sklearn.model_selection import train_test_split\n",
        "from keras.callbacks import ReduceLROnPlateau\n",
        "from sklearn.preprocessing import LabelEncoder\n",
        "\n",
        "Y = data_train_df['target'].tolist()\n",
        "# create a label encoder\n",
        "encoder = LabelEncoder()\n",
        "# Transform the binary data to a set of 0's and 1's\n",
        "encoder.fit(Y)\n",
        "Y = encoder.transform(Y)\n",
        "\n",
        "X_train, X_test, Y_train, Y_test = train_test_split(X, Y, test_size=0.1)\n",
        "# reshape y_train and y_test data\n",
        "Y_train = Y_train.reshape(-1, 1)\n",
        "Y_test = Y_test.reshape(-1, 1)\n",
        "x_val = X_train[-10000:]\n",
        "y_val = Y_train[-10000:]"
      ],
      "metadata": {
        "id": "qMqgflvzudLV"
      },
      "execution_count": null,
      "outputs": []
    },
    {
      "cell_type": "code",
      "source": [
        "#####CODE BLOCK 11\n",
        "#Build and run the model\n",
        "from keras.layers import Input,Conv1D,MaxPooling1D,Dense,GlobalMaxPooling1D, Bidirectional\n",
        "from keras.models import Model\n",
        "from keras.metrics import Precision, Recall\n",
        "with strategy.scope():\n",
        "  model = Sequential()\n",
        "  model.add(Embedding(embedding_len, 100, input_length = 15, weights=[embeddings_matrix]))\n",
        "  model.add(Conv1D(128,3,activation='relu')) #before 128\n",
        "  model.add(Conv1D(64,3,activation='relu')) #before 64\n",
        "  model.add(Dropout(0.2))\n",
        "  model.add(LSTM(200, dropout = 0.2, return_sequences=True))\n",
        "  model.add(LSTM(200, dropout = 0.2))\n",
        "  GlobalMaxPooling1D()\n",
        "  model.add(Dense(128, activation='relu'))\n",
        "  model.add(Dense(1, activation = \"sigmoid\"))\n",
        "  model.compile(loss = 'binary_crossentropy', optimizer='adam', metrics = ['accuracy', Precision(), Recall()])\n",
        "print(model.summary())\n",
        "batch_size=512\n",
        "earlystop = EarlyStopping(monitor='val_accuracy', patience=1, min_delta=0.003)\n",
        "model_history = model.fit(X_train, Y_train, epochs = 5, batch_size=batch_size, validation_split=0.1, verbose = 1, callbacks=[earlystop])"
      ],
      "metadata": {
        "id": "ND6V5EV_snoP"
      },
      "execution_count": null,
      "outputs": []
    },
    {
      "cell_type": "code",
      "source": [
        "model.save(\"./modelCNNLSTM.h5\")"
      ],
      "metadata": {
        "id": "Qr41SQBgCM5W"
      },
      "execution_count": null,
      "outputs": []
    },
    {
      "cell_type": "code",
      "source": [
        "#####CODE BLOCK 12\n",
        "#This is the code we will use for Random Search. We must create a model for it\n",
        "# CODE CITATION ACKNOWLEDGEMENT https://www.kaggle.com/code/arrogantlymodest/randomised-cv-search-over-keras-neural-network/notebook\n",
        "'''\n",
        "CODE SPEED UP: Using random search rather than grid search to find optimum parameters and using mirrored strategy\n",
        "'''\n",
        "!pip install keras-tuner\n",
        "from tensorflow import keras\n",
        "from tensorflow.keras.optimizers import Adadelta, Adam\n",
        "import keras_tuner as kt\n",
        "def modelBuilder(hp):\n",
        "  with strategy.scope():\n",
        "    model = Sequential()\n",
        "    FirstConv = hp.Choice('units1', values=[256, 128, 64])\n",
        "    SecondConv = hp.Choice('units2', values=[32, 16, 8])\n",
        "    lr = hp.Choice('learning_rate', values=[0.01, 0.1, 0.001])\n",
        "    optimizer = Adam(learning_rate = lr)\n",
        "    model.add(Embedding(embedding_len, 100, input_length = 15, weights=[embeddings_matrix]))\n",
        "    model.add(Conv1D(FirstConv,3,activation='relu'))\n",
        "    model.add(Conv1D(SecondConv,3,activation='relu'))\n",
        "    model.add(Dropout(0.2))\n",
        "    model.add(LSTM(200, dropout = 0.2, return_sequences=True))\n",
        "    # model.add(Bidirectional(\n",
        "    #     LSTM(100,return_sequences=True, dropout = 0.2)\n",
        "    # ))\n",
        "    model.add(LSTM(200, dropout = 0.2))\n",
        "    GlobalMaxPooling1D()\n",
        "    model.add(Dense(128, activation='relu'))\n",
        "    model.add(Dense(1, activation = \"sigmoid\"))\n",
        "    model.compile(loss = 'binary_crossentropy', optimizer=optimizer, metrics = ['accuracy', Precision(), Recall()])\n",
        "    return model"
      ],
      "metadata": {
        "id": "SgZ3SpH1uPYp"
      },
      "execution_count": null,
      "outputs": []
    },
    {
      "cell_type": "code",
      "source": [
        "#####CODE BLOCK 13\n",
        "tuner = kt.RandomSearch(\n",
        "    modelBuilder,\n",
        "    objective='accuracy',\n",
        "    max_trials=4,\n",
        "    overwrite=True)\n",
        "earlystop = EarlyStopping(monitor='val_accuracy', patience=1, min_delta=0.003)\n",
        "tuner.search(X_train, Y_train, epochs = 2, batch_size = batch_size, callbacks=[earlystop], validation_data=(x_val, y_val))"
      ],
      "metadata": {
        "id": "HNP60G3xs2uH"
      },
      "execution_count": null,
      "outputs": []
    },
    {
      "cell_type": "code",
      "source": [
        "accuracy=model_history.history['accuracy']\n",
        "val_accuracy=model_history.history['val_accuracy']\n",
        "loss=model_history.history['loss']\n",
        "val_loss=model_history.history['val_loss']\n",
        "#1157 seconds\n",
        "\n",
        "epochs=range(len(accuracy))"
      ],
      "metadata": {
        "id": "hdfQJHMWk-vG"
      },
      "execution_count": null,
      "outputs": []
    },
    {
      "cell_type": "code",
      "source": [
        "scores = model.evaluate(x=X_test, y=Y_test)\n",
        "# 335 s\n",
        "# 0.7826"
      ],
      "metadata": {
        "id": "PzVnsGTglC9G"
      },
      "execution_count": null,
      "outputs": []
    },
    {
      "cell_type": "code",
      "source": [
        "import matplotlib.pyplot as plt\n",
        "plt.figure(figsize=(10, 7))\n",
        "plt.title(\"Accuracy\")\n",
        "\n",
        "plt.plot(epochs, accuracy, 'r')\n",
        "plt.plot(epochs, val_accuracy, 'b')\n",
        "plt.xlabel(\"Epochs\")\n",
        "plt.ylabel(\"Percentage Accuracy\")\n",
        "plt.legend(['train', 'val'], loc='upper right')\n"
      ],
      "metadata": {
        "colab": {
          "base_uri": "https://localhost:8080/",
          "height": 475
        },
        "id": "9qQp00I1nVO1",
        "outputId": "39a2a01b-6bef-42ea-98ec-637cc7841c3d"
      },
      "execution_count": null,
      "outputs": [
        {
          "output_type": "execute_result",
          "data": {
            "text/plain": [
              "<matplotlib.legend.Legend at 0x7ff5c0836a90>"
            ]
          },
          "metadata": {},
          "execution_count": 20
        },
        {
          "output_type": "display_data",
          "data": {
            "text/plain": [
              "<Figure size 720x504 with 1 Axes>"
            ],
            "image/png": "[encoded data removed]"
          },
          "metadata": {
            "needs_background": "light"
          }
        }
      ]
    },
    {
      "cell_type": "code",
      "source": [
        "import matplotlib.pyplot as plt\n",
        "plt.figure(figsize=(10, 7))\n",
        "plt.title(\"Loss\")\n",
        "\n",
        "plt.plot(epochs, loss, 'r')\n",
        "plt.plot(epochs, val_loss, 'b')\n",
        "plt.xlabel(\"Epochs\")\n",
        "plt.ylabel(\"Percentage Loss\")\n",
        "plt.legend(['train', 'val'], loc='upper right')"
      ],
      "metadata": {
        "colab": {
          "base_uri": "https://localhost:8080/",
          "height": 475
        },
        "id": "J0kMHV5-rsj9",
        "outputId": "93ed3716-beff-41e0-d72c-e0ffdbc2b533"
      },
      "execution_count": null,
      "outputs": [
        {
          "output_type": "execute_result",
          "data": {
            "text/plain": [
              "<matplotlib.legend.Legend at 0x7f08d3cd29d0>"
            ]
          },
          "metadata": {},
          "execution_count": 15
        },
        {
          "output_type": "display_data",
          "data": {
            "text/plain": [
              "<Figure size 720x504 with 1 Axes>"
            ],
            "image/png": "[encoded data removed]"
          },
          "metadata": {
            "needs_background": "light"
          }
        }
      ]
    },
    {
      "cell_type": "code",
      "source": [
        "import matplotlib.pyplot as plt\n",
        "\n",
        "LSTM_layers = [50, 120, 200, 300]\n",
        "accuracy = [0.7755, 0.7697, 0.7826, 0.7773]\n",
        "plt.plot(LSTM_layers, accuracy, 'r')\n",
        "plt.xlabel(\"LSTM Cells\")\n",
        "plt.ylabel(\"Accuracy\")\n",
        "plt.title(\"Accuracy as the number of LSTM cells increase\")\n",
        "\n",
        "#Accuracy with GlobalPooling 0.7806"
      ],
      "metadata": {
        "colab": {
          "base_uri": "https://localhost:8080/",
          "height": 312
        },
        "id": "c7U1RtXXB-JX",
        "outputId": "0635f8b9-7375-4abd-d0a2-370a4e06ac53"
      },
      "execution_count": null,
      "outputs": [
        {
          "output_type": "execute_result",
          "data": {
            "text/plain": [
              "Text(0.5, 1.0, 'Accuracy as the number of LSTM cells increase')"
            ]
          },
          "metadata": {},
          "execution_count": 22
        },
        {
          "output_type": "display_data",
          "data": {
            "text/plain": [
              "<Figure size 432x288 with 1 Axes>"
            ],
            "image/png": "[encoded data removed]"
          },
          "metadata": {
            "needs_background": "light"
          }
        }
      ]
    },
    {
      "cell_type": "code",
      "source": [
        "#Comparing convolutional layers with accuracy\n",
        "convolutionalLayers = [2, 4, 6, 8]\n",
        "accuracy = [0.7799, 0.7748, 0.7670, 0.7774]\n",
        "plt.plot(convolutionalLayers, accuracy, 'r')\n",
        "plt.xlabel(\"Convolutional\")\n",
        "plt.ylabel(\"Accuracy\")\n",
        "plt.title(\"Accuracy as number of convolutional layers increases\")"
      ],
      "metadata": {
        "colab": {
          "base_uri": "https://localhost:8080/",
          "height": 312
        },
        "id": "0rYdjnxjoRVh",
        "outputId": "47f3a89d-bd41-441e-88de-0b474267e353"
      },
      "execution_count": null,
      "outputs": [
        {
          "output_type": "execute_result",
          "data": {
            "text/plain": [
              "Text(0.5, 1.0, 'Accuracy as number of convolutional layers increases')"
            ]
          },
          "metadata": {},
          "execution_count": 29
        },
        {
          "output_type": "display_data",
          "data": {
            "text/plain": [
              "<Figure size 432x288 with 1 Axes>"
            ],
            "image/png": "[encoded data removed]"
          },
          "metadata": {
            "needs_background": "light"
          }
        }
      ]
    },
    {
      "cell_type": "code",
      "source": [
        "embeddingType = ['word2vec', 'glove']\n",
        "accuracy = [0.7889, 0.7826]\n",
        "plt.title(\"Accuracy with different embedding models\")\n",
        "plt.bar(embeddingType, accuracy)\n"
      ],
      "metadata": {
        "colab": {
          "base_uri": "https://localhost:8080/",
          "height": 298
        },
        "id": "Nf8DzG0Wa4-_",
        "outputId": "dfa94988-1011-4641-a09d-9bcff000f86b"
      },
      "execution_count": null,
      "outputs": [
        {
          "output_type": "execute_result",
          "data": {
            "text/plain": [
              "<BarContainer object of 2 artists>"
            ]
          },
          "metadata": {},
          "execution_count": 32
        },
        {
          "output_type": "display_data",
          "data": {
            "text/plain": [
              "<Figure size 432x288 with 1 Axes>"
            ],
            "image/png": "[encoded data removed]"
          },
          "metadata": {
            "needs_background": "light"
          }
        }
      ]
    },
    {
      "cell_type": "code",
      "source": [
        "# CODE CITATION ACKNOWLEDGEMENT https://stackoverflow.com/questions/61684542/generating-confusion-matrix-for-keras-model-sentiment-analysis\n",
        "# Convert data to 0's and 1's to create classification table\n",
        "from sklearn.metrics import confusion_matrix,classification_report\n",
        "Y_pred = (model.predict(X_test).ravel()>0.5)+0\n",
        "print(Y_test)"
      ],
      "metadata": {
        "id": "jettd4ysXoTG"
      },
      "execution_count": null,
      "outputs": []
    },
    {
      "cell_type": "code",
      "source": [
        "matrix = confusion_matrix(Y_test, Y_pred)"
      ],
      "metadata": {
        "id": "DYZg8v48Z0Rg"
      },
      "execution_count": null,
      "outputs": []
    },
    {
      "cell_type": "code",
      "source": [
        "#Print out all the statistics\n",
        "print(matrix)\n",
        "print(classification_report(Y_test, Y_pred))"
      ],
      "metadata": {
        "id": "0tuThwCQaFzf"
      },
      "execution_count": null,
      "outputs": []
    },
    {
      "cell_type": "code",
      "source": [
        "!wget -nc https://raw.githubusercontent.com/brpy/colab-pdf/master/colab_pdf.py\n",
        "from colab_pdf import colab_pdf\n",
        "colab_pdf('CNN-LSTM.ipynb')"
      ],
      "metadata": {
        "colab": {
          "base_uri": "https://localhost:8080/",
          "height": 417
        },
        "id": "dnB3ELf_aCWq",
        "outputId": "d3945b91-a65b-42e9-8ae4-5bc3f9cea311"
      },
      "execution_count": null,
      "outputs": [
        {
          "output_type": "stream",
          "name": "stdout",
          "text": [
            "File ‘colab_pdf.py’ already there; not retrieving.\n",
            "\n",
            "\n",
            "WARNING: apt does not have a stable CLI interface. Use with caution in scripts.\n",
            "\n",
            "\n",
            "WARNING: apt does not have a stable CLI interface. Use with caution in scripts.\n",
            "\n",
            "[NbConvertApp] Converting notebook /content/drive/MyDrive/Colab Notebooks/CNN-LSTM.ipynb to pdf\n",
            "[NbConvertApp] Support files will be in CNN-LSTM_files/\n",
            "[NbConvertApp] Making directory ./CNN-LSTM_files\n",
            "[NbConvertApp] Making directory ./CNN-LSTM_files\n",
            "[NbConvertApp] Making directory ./CNN-LSTM_files\n",
            "[NbConvertApp] Making directory ./CNN-LSTM_files\n",
            "[NbConvertApp] Making directory ./CNN-LSTM_files\n",
            "[NbConvertApp] Writing 64929 bytes to ./notebook.tex\n",
            "[NbConvertApp] Building PDF\n",
            "[NbConvertApp] Running xelatex 3 times: ['xelatex', './notebook.tex', '-quiet']\n",
            "[NbConvertApp] Running bibtex 1 time: ['bibtex', './notebook']\n",
            "[NbConvertApp] WARNING | bibtex had problems, most likely because there were no citations\n",
            "[NbConvertApp] PDF successfully created\n",
            "[NbConvertApp] Writing 129164 bytes to /content/drive/My Drive/CNN-LSTM.pdf\n"
          ]
        },
        {
          "output_type": "display_data",
          "data": {
            "text/plain": [
              "<IPython.core.display.Javascript object>"
            ],
            "application/javascript": [
              "\n",
              "    async function download(id, filename, size) {\n",
              "      if (!google.colab.kernel.accessAllowed) {\n",
              "        return;\n",
              "      }\n",
              "      const div = document.createElement('div');\n",
              "      const label = document.createElement('label');\n",
              "      label.textContent = `Downloading \"${filename}\": `;\n",
              "      div.appendChild(label);\n",
              "      const progress = document.createElement('progress');\n",
              "      progress.max = size;\n",
              "      div.appendChild(progress);\n",
              "      document.body.appendChild(div);\n",
              "\n",
              "      const buffers = [];\n",
              "      let downloaded = 0;\n",
              "\n",
              "      const channel = await google.colab.kernel.comms.open(id);\n",
              "      // Send a message to notify the kernel that we're ready.\n",
              "      channel.send({})\n",
              "\n",
              "      for await (const message of channel.messages) {\n",
              "        // Send a message to notify the kernel that we're ready.\n",
              "        channel.send({})\n",
              "        if (message.buffers) {\n",
              "          for (const buffer of message.buffers) {\n",
              "            buffers.push(buffer);\n",
              "            downloaded += buffer.byteLength;\n",
              "            progress.value = downloaded;\n",
              "          }\n",
              "        }\n",
              "      }\n",
              "      const blob = new Blob(buffers, {type: 'application/binary'});\n",
              "      const a = document.createElement('a');\n",
              "      a.href = window.URL.createObjectURL(blob);\n",
              "      a.download = filename;\n",
              "      div.appendChild(a);\n",
              "      a.click();\n",
              "      div.remove();\n",
              "    }\n",
              "  "
            ]
          },
          "metadata": {}
        },
        {
          "output_type": "display_data",
          "data": {
            "text/plain": [
              "<IPython.core.display.Javascript object>"
            ],
            "application/javascript": [
              "download(\"download_ba49af4f-9d3a-4df8-ae29-4c5adefd8db7\", \"CNN-LSTM.pdf\", 129164)"
            ]
          },
          "metadata": {}
        },
        {
          "output_type": "execute_result",
          "data": {
            "text/plain": [
              "'File ready to be Downloaded and Saved to Drive'"
            ],
            "application/vnd.google.colaboratory.intrinsic+json": {
              "type": "string"
            }
          },
          "metadata": {},
          "execution_count": 20
        }
      ]
    }
  ]
}
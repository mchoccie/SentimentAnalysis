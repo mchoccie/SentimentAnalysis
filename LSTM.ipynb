{
  "nbformat": 4,
  "nbformat_minor": 0,
  "metadata": {
    "colab": {
      "provenance": []
    },
    "kernelspec": {
      "name": "python3",
      "display_name": "Python 3"
    },
    "language_info": {
      "name": "python"
    }
  },
  "cells": [
    {
      "cell_type": "markdown",
      "source": [
        "Useful Links used:\n",
        "https://www.tensorflow.org/\n",
        "\n",
        "https://keras.io/\n",
        "\n",
        "https://medium.com/analytics-vidhya/understanding-embedding-layer-in-keras-bbe3ff1327ce#:~:text=Embedding%20layer%20enables%20us%20to,way%20along%20with%20reduced%20dimensions.\n",
        "\n",
        "https://www.analyticsvidhya.com/blog/2021/06/natural-language-processing-sentiment-analysis-using-lstm/\n",
        "\n",
        "https://www.kaggle.com/code/lykin22/twitter-sentiment-analysis-with-naive-bayes-85-acc/notebook\n",
        "\n",
        "https://www.analyticsvidhya.com/blog/2021/12/sentiment-analysis-on-tweets-with-lstm-for-beginners/\n",
        "\n",
        "https://towardsdatascience.com/basics-of-countvectorizer-e26677900f9c\n",
        "\n",
        "https://haochen23.github.io/2020/01/nlp-rnn-sentiment.html\n",
        "\n",
        "https://www.analyticsvidhya.com/blog/2021/07/performing-sentiment-analysis-with-naive-bayes-classifier/\n",
        "\n",
        "https://www.kaggle.com/code/prashant268/sentiment-analysis-lstm/notebook\n",
        "\n",
        "https://medium.com/analytics-vidhya/understanding-embedding-layer-in-keras-bbe3ff1327ce#:~:text=Embedding%20layer%20enables%20us%20to,way%20along%20with%20reduced%20dimensions\n",
        "\n",
        "https://medium.com/@karyrs1506/sentiment-analysis-on-tweets-with-lstm-22e3bbf93a61\n",
        "\n",
        "https://lifesaver.codes/answer/how-does-embedding-layer-work-3110\n",
        "\n",
        "https://www.kaggle.com/code/prashant268/sentiment-analysis-lstm/notebook\n",
        "\n",
        "https://towardsdatascience.com/another-twitter-sentiment-analysis-with-python-part-11-cnn-word2vec-41f5e28eda74\n",
        "\n",
        "https://www.kaggle.com/code/arrogantlymodest/randomised-cv-search-over-keras-neural-network/notebook\n",
        "\n",
        "https://www.analyticsvidhya.com/blog/2021/11/an-introduction-to-stemming-in-natural-language-processing/"
      ],
      "metadata": {
        "id": "H5R2B-2KXpDc"
      }
    },
    {
      "cell_type": "code",
      "execution_count": null,
      "metadata": {
        "id": "TMmNT7FDiogD"
      },
      "outputs": [],
      "source": [
        "#####CODE BLOCK 1\n",
        "import pandas as pd\n",
        "pd.set_option('display.max_columns', 10)"
      ]
    },
    {
      "cell_type": "code",
      "source": [
        "#####CODE BLOCK 2\n",
        "# Connect to Google Drive if needed\n",
        "from google.colab import drive\n",
        "drive.mount('/content/drive')\n",
        "%cd /content/drive/MyDrive/Colab Notebooks/"
      ],
      "metadata": {
        "colab": {
          "base_uri": "https://localhost:8080/"
        },
        "id": "sE0Vu4eojvJX",
        "outputId": "202fca05-74d7-49ed-f1e6-6418191dc407"
      },
      "execution_count": null,
      "outputs": [
        {
          "output_type": "stream",
          "name": "stdout",
          "text": [
            "Drive already mounted at /content/drive; to attempt to forcibly remount, call drive.mount(\"/content/drive\", force_remount=True).\n",
            "/content/drive/MyDrive/Colab Notebooks\n"
          ]
        }
      ]
    },
    {
      "cell_type": "code",
      "source": [
        "#####CODE BLOCK 3\n",
        "#I downloaded the CSV and called it sentiment.csv in my google drive folder called colab notebooks because the file was too large\n",
        "data_train_df = pd.read_csv('./sentiment.csv', encoding='latin-1', names=[\"target\", \"id\", \"date\", \"flag\", \"user\", \"text\"])\n",
        "\n",
        "data_train_df.drop('id', axis=1, inplace=True)\n",
        "data_train_df.drop('date', axis=1, inplace=True)\n",
        "data_train_df.drop('flag', axis=1, inplace=True)\n",
        "data_train_df.drop('user', axis=1, inplace=True)"
      ],
      "metadata": {
        "id": "xTEHQ-AqjxQn"
      },
      "execution_count": null,
      "outputs": []
    },
    {
      "cell_type": "code",
      "source": [
        "#####CODE BLOCK 4\n",
        "# Import necessary Libraries for preprocessing\n",
        "import nltk\n",
        "import string\n",
        "from nltk.corpus import stopwords\n",
        "nltk.download('stopwords')\n",
        "print(data_train_df.head())"
      ],
      "metadata": {
        "colab": {
          "base_uri": "https://localhost:8080/"
        },
        "id": "A85WlUa0jx3z",
        "outputId": "d36f177d-e60b-427a-dc42-6469663b6cde"
      },
      "execution_count": null,
      "outputs": [
        {
          "output_type": "stream",
          "name": "stdout",
          "text": [
            "[nltk_data] Downloading package stopwords to /root/nltk_data...\n",
            "[nltk_data]   Unzipping corpora/stopwords.zip.\n",
            "   target                                               text\n",
            "0       0  @switchfoot http://twitpic.com/2y1zl - Awww, t...\n",
            "1       0  is upset that he can't update his Facebook by ...\n",
            "2       0  @Kenichan I dived many times for the ball. Man...\n",
            "3       0    my whole body feels itchy and like its on fire \n",
            "4       0  @nationwideclass no, it's not behaving at all....\n"
          ]
        }
      ]
    },
    {
      "cell_type": "code",
      "source": [
        "#####CODE BLOCK 5\n",
        "#CODE CITATION ACKNOWLEDGMENT: https://medium.com/@karyrs1506/sentiment-analysis-on-tweets-with-lstm-22e3bbf93a61\n",
        "from nltk.tokenize import TweetTokenizer\n",
        "from nltk.stem import SnowballStemmer\n",
        "snowball = SnowballStemmer(language='english')\n",
        "tokenizer = TweetTokenizer(preserve_case=False,\n",
        "                           strip_handles=True,\n",
        "                           reduce_len=True)\n",
        "import re\n",
        "#Extract all the tweets from the dataframe\n",
        "texts = list(data_train_df.loc[:, \"text\"])\n",
        "\n",
        "#Prepare a list of tweets which have been cleaned\n",
        "tweet_list = []\n",
        "i = 0\n",
        "stopwords_english = stopwords.words('english')\n",
        "\n",
        "#Loop through every tweet\n",
        "while i < len(texts):\n",
        "  tweet = texts[i]\n",
        "  #Remove hyperlinks and @'s\n",
        "  tweet = re.sub('@\\S+|https?:\\S+|http?:\\S|[^A-Za-z0-9]+',' ', tweet)\n",
        "  no_punc_tweet = \"\"\n",
        "  list_chars = []\n",
        "  clean_tweet = []\n",
        "\n",
        "  #Tokenzie the tweet after removing unecessary details in the tweet\n",
        "  tweet_tokens = tokenizer.tokenize(tweet)\n",
        "  #Loop through every token in the tweet making sure to remove stop words and punctuation\n",
        "  for word in tweet_tokens:\n",
        "    if word not in stopwords_english and word not in string.punctuation:\n",
        "      #Get the stem of a word to avoid duplicates\n",
        "      word = snowball.stem(word)\n",
        "      clean_tweet.append(word)\n",
        "\n",
        "  #Rejoin the words together\n",
        "  no_punc_tweet = ' '.join(clean_tweet)\n",
        "  no_punc_tweet = no_punc_tweet.lower()\n",
        "  #Add it to our list of clean tweets\n",
        "  tweet_list.append(no_punc_tweet)\n",
        "\n",
        "  i += 1\n",
        "\n",
        "#Create a new dataframe with cleaned tweets\n",
        "data_train_df['refined'] = tweet_list\n",
        "\n",
        "\n"
      ],
      "metadata": {
        "id": "vvSFfdrEkj1v"
      },
      "execution_count": null,
      "outputs": []
    },
    {
      "cell_type": "code",
      "source": [
        "#####CODE BLOCK 6\n",
        "from statistics import mean\n",
        "from keras.preprocessing.text import Tokenizer\n",
        "from keras.preprocessing.sequence import pad_sequences\n",
        "#Create a Keras tokenizer\n",
        "tokenizer = Tokenizer()\n",
        "print(tweet_list[0])\n",
        "#Create an vocabulary dictionary from all the words in tweets\n",
        "tokenizer.fit_on_texts(tweet_list)\n",
        "#Transfers each word in a tweet to a sequence of integers represented by the dictionary we created before\n",
        "X = tokenizer.texts_to_sequences(tweet_list)\n",
        "#We don't have very large tweets. We can usually determine the sentiment in the first few words\n",
        "X = pad_sequences(X, maxlen = 15, truncating = 'post', padding= 'post')\n",
        "#We want to set our word embedding_length this will change based on if you use Glove or Word2Vec\n",
        "embedding_len = len(tokenizer.word_index) + 1"
      ],
      "metadata": {
        "colab": {
          "base_uri": "https://localhost:8080/"
        },
        "id": "-PaGgiT6myxI",
        "outputId": "69e233af-02b8-42f3-cfc3-3802d98a8d8d"
      },
      "execution_count": null,
      "outputs": [
        {
          "output_type": "stream",
          "name": "stdout",
          "text": [
            "awww bummer shoulda got david carr third day\n"
          ]
        }
      ]
    },
    {
      "cell_type": "code",
      "source": [
        "# CODE CITATION ACKNOWLEDGEMENT: https://www.kaggle.com/code/prashant268/sentiment-analysis-lstm/notebook\n",
        "#####CODE BLOCK 7\n",
        "#Use this code block for word embedding using the W2V embedding\n",
        "documents = [tweet.split() for tweet in tweet_list]\n",
        "embedding_len = 300000\n",
        "import gensim\n",
        "import numpy as np\n",
        "#Train the w2v model\n",
        "word_vector_model = gensim.models.word2vec.Word2Vec(documents,\n",
        "                                            size=100,\n",
        "                                            min_count=10,\n",
        "                                            workers=8)\n",
        "\n",
        "\n",
        "#Creating an embeddings matrix and fill it up based on the word vectors we created from before\n",
        "embeddings_matrix = np.zeros((embedding_len, 100))\n",
        "for word, i in tokenizer.word_index.items():\n",
        "  if word in word_vector_model.wv:\n",
        "    embeddings_matrix[i] = word_vector_model.wv[word]\n",
        "print(embeddings_matrix.shape)"
      ],
      "metadata": {
        "colab": {
          "base_uri": "https://localhost:8080/"
        },
        "id": "M7Adh2Cf7LFi",
        "outputId": "0fd2c6c1-c627-46b2-c6f0-7fb9d5d80e52"
      },
      "execution_count": null,
      "outputs": [
        {
          "output_type": "stream",
          "name": "stdout",
          "text": [
            "(300000, 100)\n"
          ]
        }
      ]
    },
    {
      "cell_type": "code",
      "source": [
        "#CODE CITATION ACKNOWLEDGEMENT https://jovian.ai/kamilpolak/sentiment-analysis-with-glove-and-lstm-a3c64\n",
        "#https://www.kaggle.com/datasets/danielwillgeorge/glove6b100dtxt Obtain the glove file from here\n",
        "#####CODE BLOCK 8\n",
        "#Use this code block if you want to use Glove embedding\n",
        "import numpy as np\n",
        "embeddings_index = {}\n",
        "\n",
        "with open('./glove.6B.100d.txt') as f:\n",
        "    for line in f:\n",
        "        values = line.split()\n",
        "        word = values[0]\n",
        "        coefs = np.asarray(values[1:], dtype='float32')\n",
        "        embeddings_index[word] = coefs\n",
        "\n",
        "embeddings_matrix = np.zeros((embedding_len, 100))\n",
        "for word, i in tokenizer.word_index.items():\n",
        "    embedding_vector = embeddings_index.get(word)\n",
        "    if embedding_vector is not None:\n",
        "        embeddings_matrix[i] = embedding_vector"
      ],
      "metadata": {
        "id": "H0YT5sPvm6AS"
      },
      "execution_count": null,
      "outputs": []
    },
    {
      "cell_type": "code",
      "source": [
        "#####CODE BLOCK 9\n",
        "from keras.models import Sequential\n",
        "import json\n",
        "from keras.layers import Dense, Embedding, LSTM, Dropout, Bidirectional\n",
        "import tensorflow as tf\n",
        "import os\n",
        "\n",
        "'''\n",
        "CODE SPEED UP: The following helps us run our code on multiple GPUS to speed up code execution\n",
        "'''\n",
        "strategy = tf.distribute.MirroredStrategy()"
      ],
      "metadata": {
        "colab": {
          "base_uri": "https://localhost:8080/"
        },
        "id": "ZQT7dqMCnijx",
        "outputId": "9339a4fb-03ea-44ac-ec59-e1ef350fea04"
      },
      "execution_count": null,
      "outputs": [
        {
          "output_type": "stream",
          "name": "stdout",
          "text": [
            "WARNING:tensorflow:There are non-GPU devices in `tf.distribute.Strategy`, not using nccl allreduce.\n",
            "INFO:tensorflow:Using MirroredStrategy with devices ('/job:localhost/replica:0/task:0/device:CPU:0',)\n"
          ]
        }
      ]
    },
    {
      "cell_type": "code",
      "source": [
        "#####CODE BLOCK 10\n",
        "#CODE CITATION ACKNOWLEDGEMENTS USED THE FOLLOWING LINKS FOR HELP\n",
        "#https://jzhao326.github.io/documents/479_DL_REPORT.pdf\n",
        "#https://towardsdatascience.com/choosing-the-right-hyperparameters-for-a-simple-lstm-using-keras-f8e9ed76f046\n",
        "#https://www.analyticsvidhya.com/blog/2021/06/tuning-hyperparameters-of-an-artificial-neural-network-leveraging-keras-tuner/\n",
        "\n",
        "#PREVIOUS WORK\n",
        "#https://ieeexplore.ieee.org/stamp/stamp.jsp?tp=&arnumber=9362853\n",
        "#https://www.kaggle.com/code/gemyhamed/sentiment-analysis-word-embedding-lstm-cnn/notebook\n",
        "from keras.callbacks import EarlyStopping\n",
        "import numpy as np\n",
        "from sklearn.model_selection import train_test_split\n",
        "from keras.callbacks import ReduceLROnPlateau\n",
        "from sklearn.preprocessing import LabelEncoder\n",
        "\n",
        "Y = data_train_df['target'].tolist()\n",
        "# create a label encoder\n",
        "encoder = LabelEncoder()\n",
        "# Transform the binary data to a set of 0's and 1's\n",
        "encoder.fit(Y)\n",
        "Y = encoder.transform(Y)\n",
        "X_train, X_test, Y_train, Y_test = train_test_split(X, Y, test_size=0.1)\n",
        "# reshape y_train and y_test data\n",
        "Y_train = Y_train.reshape(-1, 1)\n",
        "Y_test = Y_test.reshape(-1, 1)\n",
        "x_val = X_train[-10000:]\n",
        "y_val = Y_train[-10000:]"
      ],
      "metadata": {
        "id": "I9OiEeHhoA2I"
      },
      "execution_count": null,
      "outputs": []
    },
    {
      "cell_type": "code",
      "source": [
        "#####CODE BLOCK 11\n",
        "#This is the code we will use for Random Search. We must create a model for it\n",
        "# CODE CITATION ACKNOWLEDGEMENT https://www.kaggle.com/code/arrogantlymodest/randomised-cv-search-over-keras-neural-network/notebook\n",
        "'''\n",
        "CODE SPEED UP: Using random search rather than grid search to find optimum parameters and using mirrored strategy\n",
        "'''\n",
        "!pip install keras-tuner\n",
        "from tensorflow import keras\n",
        "import keras_tuner as kt\n",
        "def modelBuilder(hp):\n",
        "  with strategy.scope():\n",
        "    model = Sequential()\n",
        "    LSTMLayer = hp.Choice('units1', values=[200, 120, 100])\n",
        "    DenseLayer1 = hp.Choice('units2', values=[64, 48, 32])\n",
        "    lr = hp.Choice('learning_rate', values=[0.01, 0.1, 0.001])\n",
        "    optimizer=keras.optimizers.Adam(learning_rate=lr)\n",
        "    model.add(Embedding(embedding_len, 100, input_length = 15, weights=[embeddings_matrix]))\n",
        "    model.add(Dropout(0.2))\n",
        "    model.add(LSTM(LSTMLayer, dropout = 0.2, return_sequences=True))\n",
        "    model.add(LSTM(LSTMLayer, dropout = 0.2))\n",
        "    model.add(Dense(DenseLayer1, activation='relu'))\n",
        "    model.add(Dense(1, activation = \"sigmoid\"))\n",
        "    model.compile(loss = 'binary_crossentropy', optimizer=optimizer, metrics = ['accuracy'])\n",
        "    return model"
      ],
      "metadata": {
        "id": "_oCJaYMUvWVc"
      },
      "execution_count": null,
      "outputs": []
    },
    {
      "cell_type": "code",
      "source": [
        "#####CODE BLOCK 12\n",
        "#If you want to run random search\n",
        "'''\n",
        "CODE SPEED UP: Using random search rather than grid search to find optimum parameters\n",
        "'''\n",
        "batch_size=512\n",
        "tuner = kt.RandomSearch(\n",
        "    modelBuilder,\n",
        "    objective='accuracy',\n",
        "    max_trials=4,\n",
        "    overwrite=True)\n",
        "earlystop = EarlyStopping(monitor='val_accuracy', min_delta = 0.003, patience=1)\n",
        "tuner.search(X_train, Y_train, epochs = 2, batch_size = batch_size, callbacks=[earlystop], validation_data=(x_val, y_val))"
      ],
      "metadata": {
        "id": "RJ4aJoFeUU69"
      },
      "execution_count": null,
      "outputs": []
    },
    {
      "cell_type": "code",
      "source": [
        "#####CODE BLOCK 13\n",
        "#This is where we build the model for evaluation\n",
        "from keras.layers import Input,Conv1D,MaxPooling1D,Dense,GlobalMaxPooling1D, Bidirectional,GlobalMaxPool1D\n",
        "from keras.models import Model\n",
        "from keras.metrics import Precision, Recall\n",
        "from tensorflow.keras.optimizers import Adadelta, Adam\n",
        "with strategy.scope():\n",
        "  optimizer = Adam(learning_rate = 0.001)\n",
        "  model = Sequential()\n",
        "  model.add(Embedding(embedding_len, 100, input_length = 15, weights=[embeddings_matrix]))\n",
        "  model.add(Dropout(0.2))\n",
        "  model.add(LSTM(200, dropout = 0.2, return_sequences=True))\n",
        "  model.add(LSTM(200, dropout = 0.2))\n",
        "  model.add(Dense(32, activation='relu'))\n",
        "  model.add(Dense(1, activation = \"sigmoid\"))\n",
        "  model.compile(loss = 'binary_crossentropy', optimizer=optimizer, metrics = ['accuracy', Precision(), Recall()])\n",
        "print(model.summary())"
      ],
      "metadata": {
        "id": "sXWp7WuovY0o"
      },
      "execution_count": null,
      "outputs": []
    },
    {
      "cell_type": "code",
      "source": [
        "#####CODE BLOCK 14\n",
        "#If you want to actually run the model\n",
        "'''\n",
        "CODE SPEED UP: Large Batch Size increases the training time of each epoch\n",
        "Also early stopping condition makes sure that the model doesn't overfit\n",
        "'''\n",
        "batch_size=512\n",
        "earlystop = EarlyStopping(monitor='val_accuracy', min_delta = 0.003, patience=1)\n",
        "history = model.fit(X_train, Y_train, epochs = 5, batch_size=batch_size, validation_split=0.1, verbose = 1, callbacks=[earlystop])"
      ],
      "metadata": {
        "id": "dQZj8jPYU0AR"
      },
      "execution_count": null,
      "outputs": []
    },
    {
      "cell_type": "code",
      "source": [
        "model.save(\"./modelLSTM.h5\")"
      ],
      "metadata": {
        "id": "Rx8gRfZ134kZ"
      },
      "execution_count": null,
      "outputs": []
    },
    {
      "cell_type": "code",
      "source": [
        "#Training data recroded\n",
        "accuracy=history.history['accuracy']\n",
        "val_accuracy=history.history['val_accuracy']\n",
        "loss=history.history['loss']\n",
        "val_loss=history.history['val_loss']\n",
        "#1157 seconds\n",
        "\n",
        "epochs=range(len(accuracy))"
      ],
      "metadata": {
        "id": "qPOuQon5x-fv"
      },
      "execution_count": null,
      "outputs": []
    },
    {
      "cell_type": "code",
      "source": [
        "#Obtain Precision and Recall\n",
        "scores = model.evaluate(x=X_test, y=Y_test)"
      ],
      "metadata": {
        "id": "TG6vQjwIyKQU"
      },
      "execution_count": null,
      "outputs": []
    },
    {
      "cell_type": "code",
      "source": [
        "print(model.summary())"
      ],
      "metadata": {
        "id": "ZADdnPgpMHGq"
      },
      "execution_count": null,
      "outputs": []
    },
    {
      "cell_type": "code",
      "source": [
        "#Plotting accuracy an val_accuracy\n",
        "import matplotlib.pyplot as plt\n",
        "plt.figure(figsize=(10, 7))\n",
        "plt.title(\"Accuracy\")\n",
        "\n",
        "plt.plot(epochs, accuracy, 'r')\n",
        "plt.plot(epochs, val_accuracy, 'b')\n",
        "plt.xlabel(\"Epochs\")\n",
        "plt.ylabel(\"Percentage Accuracy\")\n",
        "plt.legend(['train', 'val'], loc='upper right')\n"
      ],
      "metadata": {
        "colab": {
          "base_uri": "https://localhost:8080/",
          "height": 475
        },
        "id": "7EVJMbh86zQJ",
        "outputId": "6d467c4c-9dbf-4df7-a02c-a0851e2bee12"
      },
      "execution_count": null,
      "outputs": [
        {
          "output_type": "execute_result",
          "data": {
            "text/plain": [
              "<matplotlib.legend.Legend at 0x7f0c54b8c3d0>"
            ]
          },
          "metadata": {},
          "execution_count": 34
        },
        {
          "output_type": "display_data",
          "data": {
            "text/plain": [
              "<Figure size 720x504 with 1 Axes>"
            ],
            "image/png": "[encoded data removed]"
          },
          "metadata": {
            "needs_background": "light"
          }
        }
      ]
    },
    {
      "cell_type": "code",
      "source": [
        "#Plotting the val loss and loss\n",
        "import matplotlib.pyplot as plt\n",
        "plt.figure(figsize=(10, 7))\n",
        "plt.title(\"Loss\")\n",
        "\n",
        "plt.plot(epochs, loss, 'r')\n",
        "plt.plot(epochs, val_loss, 'b')\n",
        "plt.xlabel(\"Epochs\")\n",
        "plt.ylabel(\"Percentage Loss\")\n",
        "plt.legend(['train', 'val'], loc='upper right')"
      ],
      "metadata": {
        "colab": {
          "base_uri": "https://localhost:8080/",
          "height": 475
        },
        "id": "CGi1bqxa9rGw",
        "outputId": "2a33cd03-ad9b-4ab1-cd36-ddfd35dd298e"
      },
      "execution_count": null,
      "outputs": [
        {
          "output_type": "execute_result",
          "data": {
            "text/plain": [
              "<matplotlib.legend.Legend at 0x7f0c564c4810>"
            ]
          },
          "metadata": {},
          "execution_count": 35
        },
        {
          "output_type": "display_data",
          "data": {
            "text/plain": [
              "<Figure size 720x504 with 1 Axes>"
            ],
            "image/png": "[encoded data removed]"
          },
          "metadata": {
            "needs_background": "light"
          }
        }
      ]
    },
    {
      "cell_type": "code",
      "source": [
        "#Accuracy change with optimizer\n",
        "optimizers = ['Nadam', 'Adam', 'SGD', 'Adadelta']\n",
        "accuracy = [0.7802, 0.793, 0.5726, 0.5718]\n",
        "plt.xlabel(\"Optimizer\")\n",
        "plt.ylabel(\"Accuracy\")\n",
        "plt.title(\"Variance of accuracy with optimizer used\")\n",
        "plt.bar(optimizers, accuracy, color ='blue',\n",
        "        width = 0.4)"
      ],
      "metadata": {
        "colab": {
          "base_uri": "https://localhost:8080/",
          "height": 312
        },
        "id": "Dyv6NNAz7oCL",
        "outputId": "5d23a4c0-e567-49ca-d1af-8b7b8a727e22"
      },
      "execution_count": null,
      "outputs": [
        {
          "output_type": "execute_result",
          "data": {
            "text/plain": [
              "<BarContainer object of 4 artists>"
            ]
          },
          "metadata": {},
          "execution_count": 47
        },
        {
          "output_type": "display_data",
          "data": {
            "text/plain": [
              "<Figure size 432x288 with 1 Axes>"
            ],
            "image/png": "[encoded data removed]"
          },
          "metadata": {
            "needs_background": "light"
          }
        }
      ]
    },
    {
      "cell_type": "code",
      "source": [
        "#Precision with change of optimizer\n",
        "optimizers = ['Nadam', 'Adam', 'SGD', 'Adadelta']\n",
        "precision = [0.7922, 0.802, 0.5727, 0.5798]\n",
        "plt.xlabel(\"Optimizer\")\n",
        "plt.ylabel(\"Precision\")\n",
        "plt.title(\"Variance of precision with optimizer used\")\n",
        "plt.bar(optimizers, accuracy, color ='blue',\n",
        "        width = 0.4)"
      ],
      "metadata": {
        "colab": {
          "base_uri": "https://localhost:8080/",
          "height": 312
        },
        "id": "Sv9nE17m9VfX",
        "outputId": "60a18570-d076-473a-9c84-bfbb3d041530"
      },
      "execution_count": null,
      "outputs": [
        {
          "output_type": "execute_result",
          "data": {
            "text/plain": [
              "<BarContainer object of 4 artists>"
            ]
          },
          "metadata": {},
          "execution_count": 49
        },
        {
          "output_type": "display_data",
          "data": {
            "text/plain": [
              "<Figure size 432x288 with 1 Axes>"
            ],
            "image/png": "[encoded data removed]"
          },
          "metadata": {
            "needs_background": "light"
          }
        }
      ]
    },
    {
      "cell_type": "code",
      "source": [
        "#Accuracy as we change the number of cells\n",
        "import matplotlib.pyplot as plt\n",
        "plt.figure(figsize=(10, 7))\n",
        "LSTM_layers = [50, 120, 200]\n",
        "accuracy = [0.7814, 0.7802, 0.7821]\n",
        "plt.plot(LSTM_layers, accuracy, 'r')\n",
        "plt.xlabel(\"Number of cells\")\n",
        "plt.ylabel(\"Accuracy\")"
      ],
      "metadata": {
        "colab": {
          "base_uri": "https://localhost:8080/",
          "height": 459
        },
        "id": "SMAefR8Jmv6K",
        "outputId": "b76f0348-5f2c-42cb-81ac-0027e03f6ad4"
      },
      "execution_count": null,
      "outputs": [
        {
          "output_type": "execute_result",
          "data": {
            "text/plain": [
              "Text(0, 0.5, 'Accuracy')"
            ]
          },
          "metadata": {},
          "execution_count": 15
        },
        {
          "output_type": "display_data",
          "data": {
            "text/plain": [
              "<Figure size 720x504 with 1 Axes>"
            ],
            "image/png": "[encoded data removed]"
          },
          "metadata": {
            "needs_background": "light"
          }
        }
      ]
    },
    {
      "cell_type": "code",
      "source": [
        "#Accuracy with the change of learning rate\n",
        "import matplotlib.pyplot as plt\n",
        "plt.figure(figsize=(10, 7))\n",
        "LearningRate = [0.1, 0.01, 0.001]\n",
        "accuracy = [0.5008, 0.7711, 0.7821]\n",
        "plt.title(\"Accuracy as learning rate changes\")\n",
        "plt.plot(LearningRate, accuracy, 'r')\n",
        "plt.xlabel(\"LearningRate\")\n",
        "plt.ylabel(\"Accuracy\")\n",
        "\n"
      ],
      "metadata": {
        "colab": {
          "base_uri": "https://localhost:8080/",
          "height": 475
        },
        "id": "AyLR47jokXXr",
        "outputId": "ed96ebf9-a866-4928-c7ea-6c03c3f66947"
      },
      "execution_count": null,
      "outputs": [
        {
          "output_type": "execute_result",
          "data": {
            "text/plain": [
              "Text(0, 0.5, 'Accuracy')"
            ]
          },
          "metadata": {},
          "execution_count": 18
        },
        {
          "output_type": "display_data",
          "data": {
            "text/plain": [
              "<Figure size 720x504 with 1 Axes>"
            ],
            "image/png": "[encoded data removed]"
          },
          "metadata": {
            "needs_background": "light"
          }
        }
      ]
    },
    {
      "cell_type": "code",
      "source": [
        "# CODE CITATION ACKNOWLEDGEMENT https://stackoverflow.com/questions/61684542/generating-confusion-matrix-for-keras-model-sentiment-analysis\n",
        "# We want to use sklearn classification report so convert the values to 1's and 0's\n",
        "from sklearn.metrics import confusion_matrix,classification_report\n",
        "Y_pred = (model.predict(X_test).ravel()>0.5)+0\n",
        "print(Y_test)"
      ],
      "metadata": {
        "id": "c8FEHjQbjK6i"
      },
      "execution_count": null,
      "outputs": []
    },
    {
      "cell_type": "code",
      "source": [
        "#Classification Report of results\n",
        "print(classification_report(Y_test, Y_pred))"
      ],
      "metadata": {
        "id": "QmZpKpDslSVo"
      },
      "execution_count": null,
      "outputs": []
    },
    {
      "cell_type": "code",
      "source": [
        "!wget -nc https://raw.githubusercontent.com/brpy/colab-pdf/master/colab_pdf.py\n",
        "from colab_pdf import colab_pdf\n",
        "colab_pdf('LSTM.ipynb')"
      ],
      "metadata": {
        "colab": {
          "base_uri": "https://localhost:8080/",
          "height": 435
        },
        "id": "inGODO6g3hro",
        "outputId": "c2099c64-b42b-433f-b933-5788c1c96a0d"
      },
      "execution_count": null,
      "outputs": [
        {
          "output_type": "stream",
          "name": "stdout",
          "text": [
            "File ‘colab_pdf.py’ already there; not retrieving.\n",
            "\n",
            "\n",
            "WARNING: apt does not have a stable CLI interface. Use with caution in scripts.\n",
            "\n",
            "\n",
            "WARNING: apt does not have a stable CLI interface. Use with caution in scripts.\n",
            "\n",
            "[NbConvertApp] Converting notebook /content/drive/MyDrive/Colab Notebooks/LSTM.ipynb to pdf\n",
            "[NbConvertApp] Support files will be in LSTM_files/\n",
            "[NbConvertApp] Making directory ./LSTM_files\n",
            "[NbConvertApp] Making directory ./LSTM_files\n",
            "[NbConvertApp] Making directory ./LSTM_files\n",
            "[NbConvertApp] Making directory ./LSTM_files\n",
            "[NbConvertApp] Making directory ./LSTM_files\n",
            "[NbConvertApp] Making directory ./LSTM_files\n",
            "[NbConvertApp] Writing 68569 bytes to ./notebook.tex\n",
            "[NbConvertApp] Building PDF\n",
            "[NbConvertApp] Running xelatex 3 times: ['xelatex', './notebook.tex', '-quiet']\n",
            "[NbConvertApp] Running bibtex 1 time: ['bibtex', './notebook']\n",
            "[NbConvertApp] WARNING | bibtex had problems, most likely because there were no citations\n",
            "[NbConvertApp] PDF successfully created\n",
            "[NbConvertApp] Writing 153957 bytes to /content/drive/My Drive/LSTM.pdf\n"
          ]
        },
        {
          "output_type": "display_data",
          "data": {
            "text/plain": [
              "<IPython.core.display.Javascript object>"
            ],
            "application/javascript": [
              "\n",
              "    async function download(id, filename, size) {\n",
              "      if (!google.colab.kernel.accessAllowed) {\n",
              "        return;\n",
              "      }\n",
              "      const div = document.createElement('div');\n",
              "      const label = document.createElement('label');\n",
              "      label.textContent = `Downloading \"${filename}\": `;\n",
              "      div.appendChild(label);\n",
              "      const progress = document.createElement('progress');\n",
              "      progress.max = size;\n",
              "      div.appendChild(progress);\n",
              "      document.body.appendChild(div);\n",
              "\n",
              "      const buffers = [];\n",
              "      let downloaded = 0;\n",
              "\n",
              "      const channel = await google.colab.kernel.comms.open(id);\n",
              "      // Send a message to notify the kernel that we're ready.\n",
              "      channel.send({})\n",
              "\n",
              "      for await (const message of channel.messages) {\n",
              "        // Send a message to notify the kernel that we're ready.\n",
              "        channel.send({})\n",
              "        if (message.buffers) {\n",
              "          for (const buffer of message.buffers) {\n",
              "            buffers.push(buffer);\n",
              "            downloaded += buffer.byteLength;\n",
              "            progress.value = downloaded;\n",
              "          }\n",
              "        }\n",
              "      }\n",
              "      const blob = new Blob(buffers, {type: 'application/binary'});\n",
              "      const a = document.createElement('a');\n",
              "      a.href = window.URL.createObjectURL(blob);\n",
              "      a.download = filename;\n",
              "      div.appendChild(a);\n",
              "      a.click();\n",
              "      div.remove();\n",
              "    }\n",
              "  "
            ]
          },
          "metadata": {}
        },
        {
          "output_type": "display_data",
          "data": {
            "text/plain": [
              "<IPython.core.display.Javascript object>"
            ],
            "application/javascript": [
              "download(\"download_dcdeb20d-ef52-4e65-aba8-7adfdf8ae8bd\", \"LSTM.pdf\", 153957)"
            ]
          },
          "metadata": {}
        },
        {
          "output_type": "execute_result",
          "data": {
            "text/plain": [
              "'File ready to be Downloaded and Saved to Drive'"
            ],
            "application/vnd.google.colaboratory.intrinsic+json": {
              "type": "string"
            }
          },
          "metadata": {},
          "execution_count": 14
        }
      ]
    }
  ]
}